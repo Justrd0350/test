{
 "cells": [
  {
   "cell_type": "markdown",
   "metadata": {},
   "source": [
    "## DA TEST"
   ]
  },
  {
   "cell_type": "markdown",
   "metadata": {},
   "source": [
    "### Questions:\n",
    "#### Question 1: What are the features/characteristics of AhaMove’s customers?\n",
    "#### Question 2: Based on the insights you’ve learned so far about AhaMove (from provided data and your own knowledge), what suggestions you would give to AhaMove in order to make AhaMove’s business gets better in the next year.\n",
    "####   "
   ]
  },
  {
   "cell_type": "markdown",
   "metadata": {},
   "source": [
    "### Data preparation "
   ]
  },
  {
   "cell_type": "code",
   "execution_count": 1,
   "metadata": {},
   "outputs": [],
   "source": [
    "import pandas as pd\n",
    "import numpy as np\n",
    "import matplotlib.pyplot as plt\n",
    "%matplotlib inline"
   ]
  },
  {
   "cell_type": "code",
   "execution_count": 2,
   "metadata": {},
   "outputs": [],
   "source": [
    "orders = pd.read_csv('orders.csv')\n",
    "users = pd.read_csv('users.csv')"
   ]
  },
  {
   "cell_type": "code",
   "execution_count": 3,
   "metadata": {},
   "outputs": [],
   "source": [
    "orders.drop_duplicates(inplace=True)\n",
    "users.drop_duplicates(inplace=True)"
   ]
  },
  {
   "cell_type": "code",
   "execution_count": 4,
   "metadata": {},
   "outputs": [],
   "source": [
    "orders.created_at = pd.to_datetime(orders.created_at)\n",
    "users.created_at = pd.to_datetime(users.created_at)"
   ]
  },
  {
   "cell_type": "code",
   "execution_count": 5,
   "metadata": {},
   "outputs": [],
   "source": [
    "df = orders.merge(users,how = 'left',left_on= 'user_id',right_on= 'id',suffixes= ['_order', '_user']).drop('user_id',1)"
   ]
  },
  {
   "cell_type": "code",
   "execution_count": 6,
   "metadata": {},
   "outputs": [
    {
     "name": "stdout",
     "output_type": "stream",
     "text": [
      "1752328 1752328\n"
     ]
    }
   ],
   "source": [
    "print(len(df),len(orders))"
   ]
  },
  {
   "cell_type": "code",
   "execution_count": 7,
   "metadata": {},
   "outputs": [
    {
     "data": {
      "text/html": [
       "<div>\n",
       "<style scoped>\n",
       "    .dataframe tbody tr th:only-of-type {\n",
       "        vertical-align: middle;\n",
       "    }\n",
       "\n",
       "    .dataframe tbody tr th {\n",
       "        vertical-align: top;\n",
       "    }\n",
       "\n",
       "    .dataframe thead th {\n",
       "        text-align: right;\n",
       "    }\n",
       "</style>\n",
       "<table border=\"1\" class=\"dataframe\">\n",
       "  <thead>\n",
       "    <tr style=\"text-align: right;\">\n",
       "      <th></th>\n",
       "      <th>id_order</th>\n",
       "      <th>created_at_order</th>\n",
       "      <th>service</th>\n",
       "      <th>city</th>\n",
       "      <th>status</th>\n",
       "      <th>stop_points</th>\n",
       "      <th>ship_distance</th>\n",
       "      <th>discount</th>\n",
       "      <th>cash_on_delivery</th>\n",
       "      <th>total_pay</th>\n",
       "      <th>id_user</th>\n",
       "      <th>created_at_user</th>\n",
       "      <th>category</th>\n",
       "      <th>salesman</th>\n",
       "    </tr>\n",
       "  </thead>\n",
       "  <tbody>\n",
       "    <tr>\n",
       "      <th>0</th>\n",
       "      <td>206G6J5</td>\n",
       "      <td>2020-11-28</td>\n",
       "      <td>DG</td>\n",
       "      <td>Ha Noi</td>\n",
       "      <td>CANCELLED</td>\n",
       "      <td>NaN</td>\n",
       "      <td>20.43</td>\n",
       "      <td>15000</td>\n",
       "      <td>1800000</td>\n",
       "      <td>NaN</td>\n",
       "      <td>848980</td>\n",
       "      <td>2019-10-07</td>\n",
       "      <td>HOUSING &amp; LIFESTYLE</td>\n",
       "      <td>phuongdtm</td>\n",
       "    </tr>\n",
       "    <tr>\n",
       "      <th>1</th>\n",
       "      <td>20EDQ9J</td>\n",
       "      <td>2020-11-28</td>\n",
       "      <td>DG</td>\n",
       "      <td>Ha Noi</td>\n",
       "      <td>CANCELLED</td>\n",
       "      <td>NaN</td>\n",
       "      <td>25.18</td>\n",
       "      <td>0</td>\n",
       "      <td>0</td>\n",
       "      <td>NaN</td>\n",
       "      <td>848103</td>\n",
       "      <td>2018-07-10</td>\n",
       "      <td>FOOD</td>\n",
       "      <td>Loan</td>\n",
       "    </tr>\n",
       "    <tr>\n",
       "      <th>2</th>\n",
       "      <td>20IMDC8</td>\n",
       "      <td>2020-11-28</td>\n",
       "      <td>DG</td>\n",
       "      <td>Ha Noi</td>\n",
       "      <td>CANCELLED</td>\n",
       "      <td>NaN</td>\n",
       "      <td>22.14</td>\n",
       "      <td>0</td>\n",
       "      <td>575000</td>\n",
       "      <td>NaN</td>\n",
       "      <td>747603</td>\n",
       "      <td>2019-05-04</td>\n",
       "      <td>FOOD</td>\n",
       "      <td>Đ Dũng</td>\n",
       "    </tr>\n",
       "    <tr>\n",
       "      <th>3</th>\n",
       "      <td>209N697</td>\n",
       "      <td>2020-11-28</td>\n",
       "      <td>DG</td>\n",
       "      <td>Ha Noi</td>\n",
       "      <td>COMPLETED</td>\n",
       "      <td>3.0</td>\n",
       "      <td>28.24</td>\n",
       "      <td>0</td>\n",
       "      <td>1090000</td>\n",
       "      <td>108000.0</td>\n",
       "      <td>893262</td>\n",
       "      <td>2018-06-13</td>\n",
       "      <td>GROCERY</td>\n",
       "      <td>NaN</td>\n",
       "    </tr>\n",
       "    <tr>\n",
       "      <th>4</th>\n",
       "      <td>200T5MW</td>\n",
       "      <td>2020-11-28</td>\n",
       "      <td>DG</td>\n",
       "      <td>Ha Noi</td>\n",
       "      <td>COMPLETED</td>\n",
       "      <td>3.0</td>\n",
       "      <td>23.36</td>\n",
       "      <td>10000</td>\n",
       "      <td>600000</td>\n",
       "      <td>75000.0</td>\n",
       "      <td>626752</td>\n",
       "      <td>2020-11-27</td>\n",
       "      <td>GROCERY</td>\n",
       "      <td>GiangLT</td>\n",
       "    </tr>\n",
       "  </tbody>\n",
       "</table>\n",
       "</div>"
      ],
      "text/plain": [
       "  id_order created_at_order service    city     status  stop_points  \\\n",
       "0  206G6J5       2020-11-28      DG  Ha Noi  CANCELLED          NaN   \n",
       "1  20EDQ9J       2020-11-28      DG  Ha Noi  CANCELLED          NaN   \n",
       "2  20IMDC8       2020-11-28      DG  Ha Noi  CANCELLED          NaN   \n",
       "3  209N697       2020-11-28      DG  Ha Noi  COMPLETED          3.0   \n",
       "4  200T5MW       2020-11-28      DG  Ha Noi  COMPLETED          3.0   \n",
       "\n",
       "   ship_distance  discount  cash_on_delivery  total_pay  id_user  \\\n",
       "0          20.43     15000           1800000        NaN   848980   \n",
       "1          25.18         0                 0        NaN   848103   \n",
       "2          22.14         0            575000        NaN   747603   \n",
       "3          28.24         0           1090000   108000.0   893262   \n",
       "4          23.36     10000            600000    75000.0   626752   \n",
       "\n",
       "  created_at_user             category   salesman  \n",
       "0      2019-10-07  HOUSING & LIFESTYLE  phuongdtm  \n",
       "1      2018-07-10                 FOOD       Loan  \n",
       "2      2019-05-04                 FOOD     Đ Dũng  \n",
       "3      2018-06-13              GROCERY        NaN  \n",
       "4      2020-11-27              GROCERY    GiangLT  "
      ]
     },
     "execution_count": 7,
     "metadata": {},
     "output_type": "execute_result"
    }
   ],
   "source": [
    "df.head()"
   ]
  },
  {
   "cell_type": "code",
   "execution_count": 8,
   "metadata": {},
   "outputs": [
    {
     "name": "stdout",
     "output_type": "stream",
     "text": [
      "<class 'pandas.core.frame.DataFrame'>\n",
      "Int64Index: 1752328 entries, 0 to 1752327\n",
      "Data columns (total 14 columns):\n",
      " #   Column            Non-Null Count    Dtype         \n",
      "---  ------            --------------    -----         \n",
      " 0   id_order          1752328 non-null  object        \n",
      " 1   created_at_order  1752328 non-null  datetime64[ns]\n",
      " 2   service           1752328 non-null  object        \n",
      " 3   city              1752328 non-null  object        \n",
      " 4   status            1752328 non-null  object        \n",
      " 5   stop_points       1517096 non-null  float64       \n",
      " 6   ship_distance     1752328 non-null  float64       \n",
      " 7   discount          1752328 non-null  int64         \n",
      " 8   cash_on_delivery  1752328 non-null  int64         \n",
      " 9   total_pay         1517096 non-null  float64       \n",
      " 10  id_user           1752328 non-null  int64         \n",
      " 11  created_at_user   1752328 non-null  datetime64[ns]\n",
      " 12  category          1688888 non-null  object        \n",
      " 13  salesman          1287546 non-null  object        \n",
      "dtypes: datetime64[ns](2), float64(3), int64(3), object(6)\n",
      "memory usage: 200.5+ MB\n"
     ]
    }
   ],
   "source": [
    "df.info(null_counts= True)"
   ]
  },
  {
   "cell_type": "markdown",
   "metadata": {},
   "source": [
    "### Data Exploration "
   ]
  },
  {
   "cell_type": "code",
   "execution_count": 9,
   "metadata": {},
   "outputs": [
    {
     "data": {
      "text/html": [
       "<div>\n",
       "<style scoped>\n",
       "    .dataframe tbody tr th:only-of-type {\n",
       "        vertical-align: middle;\n",
       "    }\n",
       "\n",
       "    .dataframe tbody tr th {\n",
       "        vertical-align: top;\n",
       "    }\n",
       "\n",
       "    .dataframe thead th {\n",
       "        text-align: right;\n",
       "    }\n",
       "</style>\n",
       "<table border=\"1\" class=\"dataframe\">\n",
       "  <thead>\n",
       "    <tr style=\"text-align: right;\">\n",
       "      <th></th>\n",
       "      <th>Total_order</th>\n",
       "      <th>Total_customer</th>\n",
       "      <th>Total_pay</th>\n",
       "      <th>Avearage_pay</th>\n",
       "      <th>Total_discount</th>\n",
       "      <th>Average_discount</th>\n",
       "    </tr>\n",
       "    <tr>\n",
       "      <th>city</th>\n",
       "      <th></th>\n",
       "      <th></th>\n",
       "      <th></th>\n",
       "      <th></th>\n",
       "      <th></th>\n",
       "      <th></th>\n",
       "    </tr>\n",
       "  </thead>\n",
       "  <tbody>\n",
       "    <tr>\n",
       "      <th>Ha Noi</th>\n",
       "      <td>955454</td>\n",
       "      <td>74105</td>\n",
       "      <td>2.976040e+10</td>\n",
       "      <td>36333.667039</td>\n",
       "      <td>1475141922</td>\n",
       "      <td>1543.917260</td>\n",
       "    </tr>\n",
       "    <tr>\n",
       "      <th>Sai Gon</th>\n",
       "      <td>796874</td>\n",
       "      <td>67245</td>\n",
       "      <td>2.712354e+10</td>\n",
       "      <td>38858.387702</td>\n",
       "      <td>1385035298</td>\n",
       "      <td>1738.085692</td>\n",
       "    </tr>\n",
       "  </tbody>\n",
       "</table>\n",
       "</div>"
      ],
      "text/plain": [
       "         Total_order  Total_customer     Total_pay  Avearage_pay  \\\n",
       "city                                                               \n",
       "Ha Noi        955454           74105  2.976040e+10  36333.667039   \n",
       "Sai Gon       796874           67245  2.712354e+10  38858.387702   \n",
       "\n",
       "         Total_discount  Average_discount  \n",
       "city                                       \n",
       "Ha Noi       1475141922       1543.917260  \n",
       "Sai Gon      1385035298       1738.085692  "
      ]
     },
     "execution_count": 9,
     "metadata": {},
     "output_type": "execute_result"
    }
   ],
   "source": [
    "df.groupby(['city']).agg(Total_order = ('id_order','count'),\n",
    "                         Total_customer = ('id_user', 'nunique'),\n",
    "                         Total_pay = ('total_pay','sum'),\n",
    "                         Avearage_pay = ('total_pay', 'mean'),\n",
    "                         Total_discount = ('discount', 'sum'),\n",
    "                         Average_discount = ('discount','mean')\n",
    "                        )"
   ]
  },
  {
   "cell_type": "markdown",
   "metadata": {},
   "source": [
    "#### Tổng quan \n",
    "+ 2 Khu vực khách hàng là Hà nội và Sài Gòn\n",
    "+ Số lượng đơn đặt hàng, số lượng khách hàng và tổng số tiền thu được (doanh thu -Total pay) ở Hà nội là cao hơn\n",
    "+ Tổng doanh thu ở Hà nội cao hơn. Tuy nhiên tổng số tiền bình quân khách hàng trả trên 1 đơn hàng ở Sài gòn cao hơn\n",
    "+ Food, Individual needs, Grocery, Fashion and Heal & Beauty là Top 5 Category có số lượng đơn đặt hàng và số lượng KH cao nhất\n",
    "+ Bike, Pool and Express là Top 3 services có số lượng đơn đặt hàng và số lượng KH cao nhất"
   ]
  },
  {
   "cell_type": "code",
   "execution_count": 10,
   "metadata": {},
   "outputs": [
    {
     "data": {
      "text/plain": [
       "<matplotlib.axes._subplots.AxesSubplot at 0x19532bd5ac8>"
      ]
     },
     "execution_count": 10,
     "metadata": {},
     "output_type": "execute_result"
    },
    {
     "data": {
      "image/png": "[encoded data removed]",
      "text/plain": [
       "<Figure size 1008x360 with 2 Axes>"
      ]
     },
     "metadata": {
      "needs_background": "light"
     },
     "output_type": "display_data"
    }
   ],
   "source": [
    "df.groupby(['category']).agg(Total_order = ('id_order','count'),\n",
    "                         Total_customer = ('id_user', 'nunique')\n",
    "                        ).sort_values('Total_order', ascending = False)\\\n",
    "                        .plot(kind = 'bar', y =['Total_order', 'Total_customer'],\\\n",
    "                              secondary_y = 'Total_customer',figsize = (14,5), title = 'No of orders and customers by category'                             \n",
    "                        )\n"
   ]
  },
  {
   "cell_type": "code",
   "execution_count": 11,
   "metadata": {},
   "outputs": [
    {
     "data": {
      "text/plain": [
       "<matplotlib.axes._subplots.AxesSubplot at 0x19535ccb348>"
      ]
     },
     "execution_count": 11,
     "metadata": {},
     "output_type": "execute_result"
    },
    {
     "data": {
      "image/png": "[encoded data removed]",
      "text/plain": [
       "<Figure size 720x288 with 2 Axes>"
      ]
     },
     "metadata": {
      "needs_background": "light"
     },
     "output_type": "display_data"
    }
   ],
   "source": [
    "df.groupby(['service']).agg(Total_order = ('id_order','count'),\n",
    "                         Total_customer = ('id_user', 'nunique')\n",
    "                        ).sort_values('Total_order', ascending = False)\\\n",
    "                        .plot(kind = 'bar', y =['Total_order', 'Total_customer'],\\\n",
    "                              secondary_y = 'Total_customer',figsize = (10,4)\n",
    "                              ,title = 'No of orders and customers by service'                             \n",
    "                        )"
   ]
  },
  {
   "cell_type": "markdown",
   "metadata": {},
   "source": [
    "#### Customer Analysis"
   ]
  },
  {
   "cell_type": "code",
   "execution_count": 12,
   "metadata": {},
   "outputs": [
    {
     "data": {
      "text/plain": [
       "status\n",
       "CANCELLED     235518\n",
       "COMPLETED    1516810\n",
       "Name: id_order, dtype: int64"
      ]
     },
     "execution_count": 12,
     "metadata": {},
     "output_type": "execute_result"
    }
   ],
   "source": [
    "df.groupby('status')['id_order'].count()"
   ]
  },
  {
   "cell_type": "markdown",
   "metadata": {},
   "source": [
    "##### Tổng hợp dữ liệu Khách hàng"
   ]
  },
  {
   "cell_type": "code",
   "execution_count": 13,
   "metadata": {},
   "outputs": [],
   "source": [
    "# Chuẩn bị dữ liệu\n",
    "com = df[df['status'] == 'COMPLETED'].copy()\n",
    "can = df[df['status'] == 'CANCELLED'].copy()\n",
    "\n",
    "# Khách hàng có đơn thành công\n",
    "com_cus = com.groupby('id_user').agg(Total_order_com = ('id_order','count'),\n",
    "                          Total_pay = ('total_pay','sum'),\n",
    "                          Avearage_pay = ('total_pay', 'mean'),\n",
    "                          Total_discount = ('discount', 'sum'),\n",
    "                          Average_discount = ('discount','mean')\n",
    "                          )\n",
    "\n",
    "# Khách hàng có đơn bị hủy\n",
    "can_cus = can.groupby('id_user')['id_order'].count().to_frame()\n",
    "\n",
    "# All khách hàng có đơn đặt hàng\n",
    "all_cus = df.groupby('id_user').agg(Total_order = ('id_order','count'),\n",
    "                               First_order_date = ('created_at_order', 'min'),\n",
    "                               Last_order_date = ('created_at_order', 'max')\n",
    "                              )\n",
    "\n",
    "# Merge và làm sạch dữ liệu\n",
    "cus = all_cus.merge(com_cus, left_index = True, right_index = True, how = 'left')\\\n",
    "    .merge(can_cus, left_index = True, right_index = True, how = 'left')\\\n",
    "    .merge(users.set_index('id'), left_index = True, right_index = True, how = 'left')\\\n",
    "\n",
    "cus.rename(columns ={'id_order': 'Total_order_can', 'created_at': 'user_open_dt'},inplace = True)\n",
    "\n",
    "cus = cus.iloc[:,[0,3,8,4,5,6,7,1,2,9,10,11]]\n",
    "\n",
    "cus[['Total_order_com', 'Total_order_can']] = cus[['Total_order_com', 'Total_order_can']].fillna(0.0).applymap(lambda x : int(x))"
   ]
  },
  {
   "cell_type": "code",
   "execution_count": 14,
   "metadata": {},
   "outputs": [
    {
     "data": {
      "text/html": [
       "<div>\n",
       "<style scoped>\n",
       "    .dataframe tbody tr th:only-of-type {\n",
       "        vertical-align: middle;\n",
       "    }\n",
       "\n",
       "    .dataframe tbody tr th {\n",
       "        vertical-align: top;\n",
       "    }\n",
       "\n",
       "    .dataframe thead th {\n",
       "        text-align: right;\n",
       "    }\n",
       "</style>\n",
       "<table border=\"1\" class=\"dataframe\">\n",
       "  <thead>\n",
       "    <tr style=\"text-align: right;\">\n",
       "      <th></th>\n",
       "      <th>Total_order</th>\n",
       "      <th>Total_order_com</th>\n",
       "      <th>Total_order_can</th>\n",
       "      <th>Total_pay</th>\n",
       "      <th>Avearage_pay</th>\n",
       "      <th>Total_discount</th>\n",
       "      <th>Average_discount</th>\n",
       "      <th>First_order_date</th>\n",
       "      <th>Last_order_date</th>\n",
       "      <th>user_open_dt</th>\n",
       "      <th>category</th>\n",
       "      <th>salesman</th>\n",
       "    </tr>\n",
       "    <tr>\n",
       "      <th>id_user</th>\n",
       "      <th></th>\n",
       "      <th></th>\n",
       "      <th></th>\n",
       "      <th></th>\n",
       "      <th></th>\n",
       "      <th></th>\n",
       "      <th></th>\n",
       "      <th></th>\n",
       "      <th></th>\n",
       "      <th></th>\n",
       "      <th></th>\n",
       "      <th></th>\n",
       "    </tr>\n",
       "  </thead>\n",
       "  <tbody>\n",
       "    <tr>\n",
       "      <th>10000</th>\n",
       "      <td>1</td>\n",
       "      <td>1</td>\n",
       "      <td>0</td>\n",
       "      <td>23000.0</td>\n",
       "      <td>23000.0</td>\n",
       "      <td>0.0</td>\n",
       "      <td>0.0</td>\n",
       "      <td>2020-11-27</td>\n",
       "      <td>2020-11-27</td>\n",
       "      <td>2020-09-26</td>\n",
       "      <td>NaN</td>\n",
       "      <td>NgocNB</td>\n",
       "    </tr>\n",
       "    <tr>\n",
       "      <th>10002</th>\n",
       "      <td>1</td>\n",
       "      <td>1</td>\n",
       "      <td>0</td>\n",
       "      <td>23000.0</td>\n",
       "      <td>23000.0</td>\n",
       "      <td>4000.0</td>\n",
       "      <td>4000.0</td>\n",
       "      <td>2020-04-11</td>\n",
       "      <td>2020-04-11</td>\n",
       "      <td>2019-01-15</td>\n",
       "      <td>FOOD</td>\n",
       "      <td>SGN_Hai</td>\n",
       "    </tr>\n",
       "    <tr>\n",
       "      <th>10003</th>\n",
       "      <td>1</td>\n",
       "      <td>1</td>\n",
       "      <td>0</td>\n",
       "      <td>32000.0</td>\n",
       "      <td>32000.0</td>\n",
       "      <td>0.0</td>\n",
       "      <td>0.0</td>\n",
       "      <td>2020-12-05</td>\n",
       "      <td>2020-12-05</td>\n",
       "      <td>2020-08-23</td>\n",
       "      <td>OTHER</td>\n",
       "      <td>SGN_PhuongVuong</td>\n",
       "    </tr>\n",
       "    <tr>\n",
       "      <th>10009</th>\n",
       "      <td>4</td>\n",
       "      <td>4</td>\n",
       "      <td>0</td>\n",
       "      <td>229000.0</td>\n",
       "      <td>57250.0</td>\n",
       "      <td>22000.0</td>\n",
       "      <td>5500.0</td>\n",
       "      <td>2020-04-04</td>\n",
       "      <td>2020-08-27</td>\n",
       "      <td>2020-03-11</td>\n",
       "      <td>FOOD</td>\n",
       "      <td>SGN_TamHa</td>\n",
       "    </tr>\n",
       "    <tr>\n",
       "      <th>10019</th>\n",
       "      <td>1</td>\n",
       "      <td>0</td>\n",
       "      <td>1</td>\n",
       "      <td>NaN</td>\n",
       "      <td>NaN</td>\n",
       "      <td>NaN</td>\n",
       "      <td>NaN</td>\n",
       "      <td>2020-01-22</td>\n",
       "      <td>2020-01-22</td>\n",
       "      <td>2019-08-24</td>\n",
       "      <td>NaN</td>\n",
       "      <td>NaN</td>\n",
       "    </tr>\n",
       "  </tbody>\n",
       "</table>\n",
       "</div>"
      ],
      "text/plain": [
       "         Total_order  Total_order_com  Total_order_can  Total_pay  \\\n",
       "id_user                                                             \n",
       "10000              1                1                0    23000.0   \n",
       "10002              1                1                0    23000.0   \n",
       "10003              1                1                0    32000.0   \n",
       "10009              4                4                0   229000.0   \n",
       "10019              1                0                1        NaN   \n",
       "\n",
       "         Avearage_pay  Total_discount  Average_discount First_order_date  \\\n",
       "id_user                                                                    \n",
       "10000         23000.0             0.0               0.0       2020-11-27   \n",
       "10002         23000.0          4000.0            4000.0       2020-04-11   \n",
       "10003         32000.0             0.0               0.0       2020-12-05   \n",
       "10009         57250.0         22000.0            5500.0       2020-04-04   \n",
       "10019             NaN             NaN               NaN       2020-01-22   \n",
       "\n",
       "        Last_order_date user_open_dt category         salesman  \n",
       "id_user                                                         \n",
       "10000        2020-11-27   2020-09-26      NaN           NgocNB  \n",
       "10002        2020-04-11   2019-01-15     FOOD          SGN_Hai  \n",
       "10003        2020-12-05   2020-08-23    OTHER  SGN_PhuongVuong  \n",
       "10009        2020-08-27   2020-03-11     FOOD        SGN_TamHa  \n",
       "10019        2020-01-22   2019-08-24      NaN              NaN  "
      ]
     },
     "execution_count": 14,
     "metadata": {},
     "output_type": "execute_result"
    }
   ],
   "source": [
    "cus.head()"
   ]
  },
  {
   "cell_type": "code",
   "execution_count": 15,
   "metadata": {},
   "outputs": [
    {
     "data": {
      "text/html": [
       "<div>\n",
       "<style scoped>\n",
       "    .dataframe tbody tr th:only-of-type {\n",
       "        vertical-align: middle;\n",
       "    }\n",
       "\n",
       "    .dataframe tbody tr th {\n",
       "        vertical-align: top;\n",
       "    }\n",
       "\n",
       "    .dataframe thead th {\n",
       "        text-align: right;\n",
       "    }\n",
       "</style>\n",
       "<table border=\"1\" class=\"dataframe\">\n",
       "  <thead>\n",
       "    <tr style=\"text-align: right;\">\n",
       "      <th></th>\n",
       "      <th>Total_order</th>\n",
       "      <th>Total_order_com</th>\n",
       "      <th>Total_order_can</th>\n",
       "      <th>Total_pay</th>\n",
       "      <th>Avearage_pay</th>\n",
       "      <th>Total_discount</th>\n",
       "      <th>Average_discount</th>\n",
       "    </tr>\n",
       "  </thead>\n",
       "  <tbody>\n",
       "    <tr>\n",
       "      <th>count</th>\n",
       "      <td>140324.000000</td>\n",
       "      <td>140324.000000</td>\n",
       "      <td>140324.000000</td>\n",
       "      <td>1.302580e+05</td>\n",
       "      <td>130258.000000</td>\n",
       "      <td>1.302580e+05</td>\n",
       "      <td>130258.000000</td>\n",
       "    </tr>\n",
       "    <tr>\n",
       "      <th>mean</th>\n",
       "      <td>12.487728</td>\n",
       "      <td>10.809341</td>\n",
       "      <td>1.678387</td>\n",
       "      <td>4.366097e+05</td>\n",
       "      <td>38868.229354</td>\n",
       "      <td>1.892990e+04</td>\n",
       "      <td>2220.901776</td>\n",
       "    </tr>\n",
       "    <tr>\n",
       "      <th>std</th>\n",
       "      <td>196.736686</td>\n",
       "      <td>175.497186</td>\n",
       "      <td>22.555431</td>\n",
       "      <td>4.704581e+06</td>\n",
       "      <td>18852.545943</td>\n",
       "      <td>6.599427e+04</td>\n",
       "      <td>3963.467804</td>\n",
       "    </tr>\n",
       "    <tr>\n",
       "      <th>min</th>\n",
       "      <td>1.000000</td>\n",
       "      <td>0.000000</td>\n",
       "      <td>0.000000</td>\n",
       "      <td>1.800000e+04</td>\n",
       "      <td>18000.000000</td>\n",
       "      <td>0.000000e+00</td>\n",
       "      <td>0.000000</td>\n",
       "    </tr>\n",
       "    <tr>\n",
       "      <th>25%</th>\n",
       "      <td>1.000000</td>\n",
       "      <td>1.000000</td>\n",
       "      <td>0.000000</td>\n",
       "      <td>4.700000e+04</td>\n",
       "      <td>27000.000000</td>\n",
       "      <td>0.000000e+00</td>\n",
       "      <td>0.000000</td>\n",
       "    </tr>\n",
       "    <tr>\n",
       "      <th>50%</th>\n",
       "      <td>3.000000</td>\n",
       "      <td>3.000000</td>\n",
       "      <td>0.000000</td>\n",
       "      <td>1.100000e+05</td>\n",
       "      <td>34000.000000</td>\n",
       "      <td>0.000000e+00</td>\n",
       "      <td>0.000000</td>\n",
       "    </tr>\n",
       "    <tr>\n",
       "      <th>75%</th>\n",
       "      <td>9.000000</td>\n",
       "      <td>8.000000</td>\n",
       "      <td>1.000000</td>\n",
       "      <td>3.220000e+05</td>\n",
       "      <td>45000.000000</td>\n",
       "      <td>1.500000e+04</td>\n",
       "      <td>3076.923077</td>\n",
       "    </tr>\n",
       "    <tr>\n",
       "      <th>max</th>\n",
       "      <td>66360.000000</td>\n",
       "      <td>60010.000000</td>\n",
       "      <td>6350.000000</td>\n",
       "      <td>1.240209e+09</td>\n",
       "      <td>461000.000000</td>\n",
       "      <td>7.981000e+06</td>\n",
       "      <td>105000.000000</td>\n",
       "    </tr>\n",
       "  </tbody>\n",
       "</table>\n",
       "</div>"
      ],
      "text/plain": [
       "         Total_order  Total_order_com  Total_order_can     Total_pay  \\\n",
       "count  140324.000000    140324.000000    140324.000000  1.302580e+05   \n",
       "mean       12.487728        10.809341         1.678387  4.366097e+05   \n",
       "std       196.736686       175.497186        22.555431  4.704581e+06   \n",
       "min         1.000000         0.000000         0.000000  1.800000e+04   \n",
       "25%         1.000000         1.000000         0.000000  4.700000e+04   \n",
       "50%         3.000000         3.000000         0.000000  1.100000e+05   \n",
       "75%         9.000000         8.000000         1.000000  3.220000e+05   \n",
       "max     66360.000000     60010.000000      6350.000000  1.240209e+09   \n",
       "\n",
       "        Avearage_pay  Total_discount  Average_discount  \n",
       "count  130258.000000    1.302580e+05     130258.000000  \n",
       "mean    38868.229354    1.892990e+04       2220.901776  \n",
       "std     18852.545943    6.599427e+04       3963.467804  \n",
       "min     18000.000000    0.000000e+00          0.000000  \n",
       "25%     27000.000000    0.000000e+00          0.000000  \n",
       "50%     34000.000000    0.000000e+00          0.000000  \n",
       "75%     45000.000000    1.500000e+04       3076.923077  \n",
       "max    461000.000000    7.981000e+06     105000.000000  "
      ]
     },
     "execution_count": 15,
     "metadata": {},
     "output_type": "execute_result"
    }
   ],
   "source": [
    "cus.describe()"
   ]
  },
  {
   "cell_type": "markdown",
   "metadata": {},
   "source": [
    "#### Nhìn vào matrix trên có thể thấy :\n",
    "+ Tổng số đơn hàng (Total_order): 50% số khách hàng không đặt nhiều hơn 3 đơn hàng, 75% số khách hàng không đặt nhiều hơn 9 đơn hàng, trong khi đó số đơn hàng trung bình 1 khách hàng đặt là ~ 12.5 đơn. Điều này do có 1 số lượng không lớn khách hàng đặt rất nhiều đơn hàng, cụ thể số đơn hàng nhiều nhất 1 khách hàng đặt là 66,360 đơn hàng --> Sự phân chia nhóm khách hàng dựa trên số lượng đơn hàng là rõ rệt (std ~ 196)\n",
    "#####  \n",
    "+ Tương tự đối với tổng số đơn hàng thành công, tổng số tiền phải trả của khách hàng cũng có sự phân tách rõ rệt\n",
    "#####    \n",
    "\n",
    "+ Nhìn vào số lượng đơn hàng bị hủy (Total_order_can), 75% số khách hàng không hủy nhiều hơn 1 đơn hàng, trong khi số đơn hàng trung bình 1 khách hàng hủy là ~ 1.7 đơn --> Lượng đơn hàng bị hủy đến nhiều từ 1 số lượng không lớn khách hàng. Số đơn hàng nhiều nhất mà 1 khách hàng hủy là 6,350 đơn, có thể thấy đây cũng là khách hàng có số đơn đặt hàng và số đơn đặt hàng thành công nhiều nhất\n",
    "####  \n",
    "+ Trung bình tiền trả trên 1 đơn hàng của 25% khách hàng không nhiều hơn 27,000. Con số đối với 50% và 75% số khách hàng là 34,000 và 45,000\n",
    "####   \n",
    "+ Histogram bên dưới mô tả phân bố lượng khách hàng dựa trên Tổng số đơn hàng, Tổng số tiền, Trung bình tiền trả trên 1 đơn hàng của các khách hàng mà có ít hơn 50 đơn hàng (phần lớn khách hàng)\n"
   ]
  },
  {
   "cell_type": "code",
   "execution_count": 16,
   "metadata": {},
   "outputs": [
    {
     "name": "stdout",
     "output_type": "stream",
     "text": [
      "\n",
      "                                 \u001b[1mPhân bố lượng khách hàng dựa trên các tiêu chí\u001b[0m                                 \n",
      "\n"
     ]
    },
    {
     "data": {
      "image/png": "[encoded data removed]",
      "text/plain": [
       "<Figure size 1080x432 with 4 Axes>"
      ]
     },
     "metadata": {
      "needs_background": "light"
     },
     "output_type": "display_data"
    }
   ],
   "source": [
    "cus.loc[cus.Total_order < 50].hist(column= ['Total_order', 'Total_pay', 'Avearage_pay'], figsize = (15,6))\n",
    "print()\n",
    "print(('\\033[1m' + 'Phân bố lượng khách hàng dựa trên các tiêu chí'+ '\\033[0m').center(120))\n",
    "print()"
   ]
  },
  {
   "cell_type": "code",
   "execution_count": 17,
   "metadata": {},
   "outputs": [
    {
     "data": {
      "text/html": [
       "<div>\n",
       "<style scoped>\n",
       "    .dataframe tbody tr th:only-of-type {\n",
       "        vertical-align: middle;\n",
       "    }\n",
       "\n",
       "    .dataframe tbody tr th {\n",
       "        vertical-align: top;\n",
       "    }\n",
       "\n",
       "    .dataframe thead th {\n",
       "        text-align: right;\n",
       "    }\n",
       "</style>\n",
       "<table border=\"1\" class=\"dataframe\">\n",
       "  <thead>\n",
       "    <tr style=\"text-align: right;\">\n",
       "      <th></th>\n",
       "      <th>Total_order</th>\n",
       "      <th>Total_order_com</th>\n",
       "      <th>Total_order_can</th>\n",
       "      <th>Total_pay</th>\n",
       "      <th>Avearage_pay</th>\n",
       "      <th>Total_discount</th>\n",
       "      <th>Average_discount</th>\n",
       "    </tr>\n",
       "  </thead>\n",
       "  <tbody>\n",
       "    <tr>\n",
       "      <th>Total_order</th>\n",
       "      <td>1.000000</td>\n",
       "      <td>0.999165</td>\n",
       "      <td>0.948152</td>\n",
       "      <td>0.932279</td>\n",
       "      <td>-0.003446</td>\n",
       "      <td>0.207869</td>\n",
       "      <td>-0.009401</td>\n",
       "    </tr>\n",
       "    <tr>\n",
       "      <th>Total_order_com</th>\n",
       "      <td>0.999165</td>\n",
       "      <td>1.000000</td>\n",
       "      <td>0.934378</td>\n",
       "      <td>0.924675</td>\n",
       "      <td>-0.004659</td>\n",
       "      <td>0.207678</td>\n",
       "      <td>-0.009603</td>\n",
       "    </tr>\n",
       "    <tr>\n",
       "      <th>Total_order_can</th>\n",
       "      <td>0.948152</td>\n",
       "      <td>0.934378</td>\n",
       "      <td>1.000000</td>\n",
       "      <td>0.937095</td>\n",
       "      <td>0.006197</td>\n",
       "      <td>0.197237</td>\n",
       "      <td>-0.007284</td>\n",
       "    </tr>\n",
       "    <tr>\n",
       "      <th>Total_pay</th>\n",
       "      <td>0.932279</td>\n",
       "      <td>0.924675</td>\n",
       "      <td>0.937095</td>\n",
       "      <td>1.000000</td>\n",
       "      <td>0.037097</td>\n",
       "      <td>0.245662</td>\n",
       "      <td>-0.012877</td>\n",
       "    </tr>\n",
       "    <tr>\n",
       "      <th>Avearage_pay</th>\n",
       "      <td>-0.003446</td>\n",
       "      <td>-0.004659</td>\n",
       "      <td>0.006197</td>\n",
       "      <td>0.037097</td>\n",
       "      <td>1.000000</td>\n",
       "      <td>-0.005001</td>\n",
       "      <td>0.076888</td>\n",
       "    </tr>\n",
       "    <tr>\n",
       "      <th>Total_discount</th>\n",
       "      <td>0.207869</td>\n",
       "      <td>0.207678</td>\n",
       "      <td>0.197237</td>\n",
       "      <td>0.245662</td>\n",
       "      <td>-0.005001</td>\n",
       "      <td>1.000000</td>\n",
       "      <td>0.184522</td>\n",
       "    </tr>\n",
       "    <tr>\n",
       "      <th>Average_discount</th>\n",
       "      <td>-0.009401</td>\n",
       "      <td>-0.009603</td>\n",
       "      <td>-0.007284</td>\n",
       "      <td>-0.012877</td>\n",
       "      <td>0.076888</td>\n",
       "      <td>0.184522</td>\n",
       "      <td>1.000000</td>\n",
       "    </tr>\n",
       "  </tbody>\n",
       "</table>\n",
       "</div>"
      ],
      "text/plain": [
       "                  Total_order  Total_order_com  Total_order_can  Total_pay  \\\n",
       "Total_order          1.000000         0.999165         0.948152   0.932279   \n",
       "Total_order_com      0.999165         1.000000         0.934378   0.924675   \n",
       "Total_order_can      0.948152         0.934378         1.000000   0.937095   \n",
       "Total_pay            0.932279         0.924675         0.937095   1.000000   \n",
       "Avearage_pay        -0.003446        -0.004659         0.006197   0.037097   \n",
       "Total_discount       0.207869         0.207678         0.197237   0.245662   \n",
       "Average_discount    -0.009401        -0.009603        -0.007284  -0.012877   \n",
       "\n",
       "                  Avearage_pay  Total_discount  Average_discount  \n",
       "Total_order          -0.003446        0.207869         -0.009401  \n",
       "Total_order_com      -0.004659        0.207678         -0.009603  \n",
       "Total_order_can       0.006197        0.197237         -0.007284  \n",
       "Total_pay             0.037097        0.245662         -0.012877  \n",
       "Avearage_pay          1.000000       -0.005001          0.076888  \n",
       "Total_discount       -0.005001        1.000000          0.184522  \n",
       "Average_discount      0.076888        0.184522          1.000000  "
      ]
     },
     "execution_count": 17,
     "metadata": {},
     "output_type": "execute_result"
    }
   ],
   "source": [
    "cus.corr()"
   ]
  },
  {
   "cell_type": "markdown",
   "metadata": {},
   "source": [
    "\n",
    "+ Matrix thể hiên mức độ tương quan/liên quan [-1:1] của các trường dữ liệu với nhau\n",
    "#####   "
   ]
  },
  {
   "cell_type": "code",
   "execution_count": 18,
   "metadata": {},
   "outputs": [],
   "source": [
    "# Tạo thêm cột chia nhóm khách hàng dựa trên số đơn hàng mà khách hàng đặt\n",
    "cus['frequent_cus'] = pd.qcut(cus.Total_order, q = 6, duplicates= 'drop',precision= 0)"
   ]
  },
  {
   "cell_type": "code",
   "execution_count": 19,
   "metadata": {},
   "outputs": [],
   "source": [
    "# Tính tỷ lệ hủy đơn hàng, số lượng khách hàng, Tổng số tiền Total pay ở mỗi nhóm\n",
    "tmp =cus.groupby('frequent_cus')[['Total_order','Total_order_can', 'Total_pay']].sum()\n",
    "tmp['No_customer'] = cus.groupby('frequent_cus')['Total_order'].count()\n",
    "tmp['can_percentage'] = (tmp.Total_order_can /tmp.Total_order) * 100"
   ]
  },
  {
   "cell_type": "code",
   "execution_count": 20,
   "metadata": {},
   "outputs": [
    {
     "data": {
      "text/html": [
       "<div>\n",
       "<style scoped>\n",
       "    .dataframe tbody tr th:only-of-type {\n",
       "        vertical-align: middle;\n",
       "    }\n",
       "\n",
       "    .dataframe tbody tr th {\n",
       "        vertical-align: top;\n",
       "    }\n",
       "\n",
       "    .dataframe thead th {\n",
       "        text-align: right;\n",
       "    }\n",
       "</style>\n",
       "<table border=\"1\" class=\"dataframe\">\n",
       "  <thead>\n",
       "    <tr style=\"text-align: right;\">\n",
       "      <th></th>\n",
       "      <th>Total_order</th>\n",
       "      <th>Total_order_can</th>\n",
       "      <th>Total_pay</th>\n",
       "      <th>No_customer</th>\n",
       "      <th>can_percentage</th>\n",
       "    </tr>\n",
       "    <tr>\n",
       "      <th>frequent_cus</th>\n",
       "      <th></th>\n",
       "      <th></th>\n",
       "      <th></th>\n",
       "      <th></th>\n",
       "      <th></th>\n",
       "    </tr>\n",
       "  </thead>\n",
       "  <tbody>\n",
       "    <tr>\n",
       "      <th>(0.0, 2.0]</th>\n",
       "      <td>82943</td>\n",
       "      <td>15694</td>\n",
       "      <td>2.725282e+09</td>\n",
       "      <td>63727</td>\n",
       "      <td>18.921428</td>\n",
       "    </tr>\n",
       "    <tr>\n",
       "      <th>(2.0, 3.0]</th>\n",
       "      <td>35724</td>\n",
       "      <td>5892</td>\n",
       "      <td>1.149344e+09</td>\n",
       "      <td>11908</td>\n",
       "      <td>16.493114</td>\n",
       "    </tr>\n",
       "    <tr>\n",
       "      <th>(3.0, 6.0]</th>\n",
       "      <td>95273</td>\n",
       "      <td>14919</td>\n",
       "      <td>3.038695e+09</td>\n",
       "      <td>19752</td>\n",
       "      <td>15.659211</td>\n",
       "    </tr>\n",
       "    <tr>\n",
       "      <th>(6.0, 15.0]</th>\n",
       "      <td>219746</td>\n",
       "      <td>31739</td>\n",
       "      <td>6.946534e+09</td>\n",
       "      <td>21725</td>\n",
       "      <td>14.443494</td>\n",
       "    </tr>\n",
       "    <tr>\n",
       "      <th>(15.0, 66360.0]</th>\n",
       "      <td>1318642</td>\n",
       "      <td>167274</td>\n",
       "      <td>4.301205e+10</td>\n",
       "      <td>23212</td>\n",
       "      <td>12.685323</td>\n",
       "    </tr>\n",
       "  </tbody>\n",
       "</table>\n",
       "</div>"
      ],
      "text/plain": [
       "                 Total_order  Total_order_can     Total_pay  No_customer  \\\n",
       "frequent_cus                                                               \n",
       "(0.0, 2.0]             82943            15694  2.725282e+09        63727   \n",
       "(2.0, 3.0]             35724             5892  1.149344e+09        11908   \n",
       "(3.0, 6.0]             95273            14919  3.038695e+09        19752   \n",
       "(6.0, 15.0]           219746            31739  6.946534e+09        21725   \n",
       "(15.0, 66360.0]      1318642           167274  4.301205e+10        23212   \n",
       "\n",
       "                 can_percentage  \n",
       "frequent_cus                     \n",
       "(0.0, 2.0]            18.921428  \n",
       "(2.0, 3.0]            16.493114  \n",
       "(3.0, 6.0]            15.659211  \n",
       "(6.0, 15.0]           14.443494  \n",
       "(15.0, 66360.0]       12.685323  "
      ]
     },
     "execution_count": 20,
     "metadata": {},
     "output_type": "execute_result"
    }
   ],
   "source": [
    "tmp.head()"
   ]
  },
  {
   "cell_type": "markdown",
   "metadata": {},
   "source": [
    "####  \n",
    "+ Tỷ lệ hủy đơn hàng cao, nhất là ở nhóm các KH có số lượng đơn đặt hàng ít nhất, (từ 1 đến 2 đơn)\n",
    "+ Tỷ lệ hủy đơn hàng giảm dần ở các nhóm có số lượng đơn đặt hàng cao hơn"
   ]
  },
  {
   "cell_type": "markdown",
   "metadata": {},
   "source": [
    "#### Tổng kết"
   ]
  },
  {
   "cell_type": "markdown",
   "metadata": {},
   "source": [
    "##### Question 1: Customer's characteristics\n",
    "+ 2 Khu vực khách hàng là Hà nội và Sài Gòn\n",
    "+ Số lượng đơn đặt hàng, số lượng khách hàng và tổng số tiền thu được (doanh thu -Total pay) ở Hà nội là cao hơn\n",
    "+ Tổng doanh thu ở Hà nội cao hơn. Tuy nhiên tổng số tiền bình quân khách hàng trả trên 1 đơn hàng ở Sài gòn cao hơn\n",
    "+ Food, Individual needs, Grocery, Fashion and Heal & Beauty là Top 5 Category có số lượng đơn đặt hàng và số lượng KH cao nhất\n",
    "+ Bike, Pool and Express là Top 3 services có số lượng đơn đặt hàng và số lượng KH cao nhất\n",
    "+ Sự phân nhóm khách hàng dựa trên số lượng đơn hàng, tổng số tiền phải trả là rõ rệt. Phần lớn đơn hàng đến từ các khách hàng cá nhân đơn lẻ, giá trung tiền trung bình của 75% khách hàng trả trên 1 đơn hàng không nhiều hơn là 45,000 \n",
    "+ Số lượng khách hàng hủy đơn hàng là không nhiều, 75% số khách hàng không hủy nhiều hơn 1 đơn hàng. Tuy nhiên số lượng đơn hàng bị hủy bởi lượng khách hàng còn lại là nhiều. Tỷ lệ hủy đơn hàng cao nhất đến từ nhóm khách hàng mà có ít đơn đặt hàng nhất và giảm dần ở các nhóm có số đơn đặt hàng cao hơn\n",
    "\n",
    "##### Question 2: Suggestion:\n",
    "+ Tỷ lệ hủy đơn hàng cao. Có thể cần có các biện pháp làm tăng tính ràng buộc với khách hàng để khách hàng giảm động cơ hủy đơn hàng: Như tăng khả năng nhận diện khách hàng bằng cách thu thập nhiều thông tin hơn hoặc đưa ra các hình thức phạt, xử lý như trừ điểm tích lũy, đánh giá...(để đổi thưởng, tham gia vào các chương hình khuyển mãi, discount) với các KH hủy đơn hàng,...\n",
    "\n",
    "+ Ngoài ra thì, tỷ lệ hủy đơn hàng đến từ nhóm khách hàng có ít đơn đặt hàng nhất (từ 1 đến 2 đơn) và giảm dần ở các nhóm sau, đây có thể là nhóm khách hàng mới (có thể kiểm tra thêm bằng user_created_at) và là nhóm khách hàng có số lượng nhiều nhất: 63,727. Có thể đưa ra các chương trình khuyến mãi với 1, 2 đơn đầu tiên với khách hàng mới để giảm tỷ lệ hủy đơn của nhóm này\n"
   ]
  },
  {
   "cell_type": "code",
   "execution_count": null,
   "metadata": {},
   "outputs": [],
   "source": []
  },
  {
   "cell_type": "code",
   "execution_count": null,
   "metadata": {},
   "outputs": [],
   "source": []
  },
  {
   "cell_type": "code",
   "execution_count": null,
   "metadata": {},
   "outputs": [],
   "source": []
  },
  {
   "cell_type": "code",
   "execution_count": null,
   "metadata": {},
   "outputs": [],
   "source": []
  },
  {
   "cell_type": "code",
   "execution_count": null,
   "metadata": {},
   "outputs": [],
   "source": []
  },
  {
   "cell_type": "code",
   "execution_count": null,
   "metadata": {},
   "outputs": [],
   "source": []
  },
  {
   "cell_type": "code",
   "execution_count": null,
   "metadata": {},
   "outputs": [],
   "source": []
  }
 ],
 "metadata": {
  "kernelspec": {
   "display_name": "Python 3",
   "language": "python",
   "name": "python3"
  },
  "language_info": {
   "codemirror_mode": {
    "name": "ipython",
    "version": 3
   },
   "file_extension": ".py",
   "mimetype": "text/x-python",
   "name": "python",
   "nbconvert_exporter": "python",
   "pygments_lexer": "ipython3",
   "version": "3.7.7"
  }
 },
 "nbformat": 4,
 "nbformat_minor": 4
}
